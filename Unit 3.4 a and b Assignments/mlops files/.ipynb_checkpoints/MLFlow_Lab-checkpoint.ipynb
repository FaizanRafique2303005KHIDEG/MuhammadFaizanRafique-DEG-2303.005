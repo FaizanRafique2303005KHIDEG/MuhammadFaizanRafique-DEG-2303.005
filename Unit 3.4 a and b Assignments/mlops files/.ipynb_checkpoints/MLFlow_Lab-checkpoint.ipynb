{
 "cells": [
  {
   "cell_type": "code",
   "execution_count": 1,
   "id": "98007f5d-4638-4e8e-b8f6-fc88c7c10e53",
   "metadata": {},
   "outputs": [
    {
     "name": "stdout",
     "output_type": "stream",
     "text": [
      "/home/muhammadhuzaifawaseem/anaconda3/bin/python\n"
     ]
    }
   ],
   "source": [
    "!python -c \"import sys; print(sys.executable)\""
   ]
  },
  {
   "cell_type": "markdown",
   "id": "30fc0892-2f9b-411a-8859-80ee9a8501d9",
   "metadata": {},
   "source": [
    "# MLFlow lab"
   ]
  },
  {
   "cell_type": "code",
   "execution_count": 2,
   "id": "927f1855-de23-43cc-ad1c-ee2a0dd03ccd",
   "metadata": {},
   "outputs": [],
   "source": [
    "import pandas as pd"
   ]
  },
  {
   "cell_type": "code",
   "execution_count": 3,
   "id": "8dd234da-9558-48a2-ac9e-b558660da1a6",
   "metadata": {},
   "outputs": [
    {
     "data": {
      "text/plain": [
       "'2.0.0'"
      ]
     },
     "execution_count": 3,
     "metadata": {},
     "output_type": "execute_result"
    }
   ],
   "source": [
    "pd.__version__"
   ]
  },
  {
   "cell_type": "markdown",
   "id": "87a0110c-4c87-40c3-af3b-75072bb6f210",
   "metadata": {
    "tags": []
   },
   "source": [
    "### Setting up MLFlow tracking server\n",
    "\n",
    "We also specify artifact root and backend store URI. This makes it possible to store models.\n",
    "\n",
    "After running this command tracking server will be accessible at `localhost:5000`"
   ]
  },
  {
   "cell_type": "code",
   "execution_count": 4,
   "id": "b915f9e2-3f6e-46f4-8308-98a5330d400c",
   "metadata": {},
   "outputs": [],
   "source": [
    "%%bash --bg\n",
    "\n",
    "mlflow server --host 0.0.0.0 \\\n",
    "    --port 5000 \\\n",
    "    --backend-store-uri sqlite:///mlflow.db \\\n",
    "    --default-artifact-root ./mlruns"
   ]
  },
  {
   "cell_type": "markdown",
   "id": "5f3df5d7-871f-44bb-ab96-bed4ab51857d",
   "metadata": {},
   "source": [
    "### MLProject file\n",
    "\n",
    "This file is used to configure MLFlow steps.\n",
    "\n",
    "Using `MLproject` we can define our project's pipeline steps, called *entry points*.\n",
    "\n",
    "Each entry point in this file corresponds to a shell command.\n",
    "\n",
    "Entry points can be ran using\n",
    "\n",
    "```\n",
    "mlflow run -e <ENTRY_POINT>\n",
    "```\n",
    "\n",
    "By default `mlflow run` runs `main` entrypoint."
   ]
  },
  {
   "cell_type": "code",
   "execution_count": 5,
   "id": "1999ca3a-1538-43a1-9a26-552924809051",
   "metadata": {},
   "outputs": [
    {
     "name": "stdout",
     "output_type": "stream",
     "text": [
      "name: basic_mlflow\n",
      "\n",
      "# this file is used to configure Python package dependencies.\n",
      "# it uses Anaconda, but it can be also alternatively configured to use pip.\n",
      "conda_env: conda.yaml\n",
      "\n",
      "# entry points can be ran using `mlflow run <project_name> -e <entry_point_name>\n",
      "entry_points:\n",
      "  download_data:\n",
      "    # you can run any command using MLFlow\n",
      "    command: \"bash download_data.sh\"\n",
      "  # MLproject file has to have main entry_point. It can be toggled without using -e option.\n",
      "\n",
      "  main:\n",
      "    # parameters is a key-value collection.\n",
      "    parameters:\n",
      "      file_name:\n",
      "        type: str\n",
      "        default: \"winequality-red.csv\"\n",
      "      max_n:\n",
      "        type: int\n",
      "        default: 2\n",
      "      max_d:\n",
      "        type: int\n",
      "        default: 2\n",
      "    command: \"python train.py {file_name} {max_n} {max_d}\""
     ]
    }
   ],
   "source": [
    "%cat MLproject"
   ]
  },
  {
   "cell_type": "markdown",
   "id": "f1ad96ca-ea8a-4ed7-a989-b0ef65b3337d",
   "metadata": {},
   "source": [
    "First we need to download data. We will use weather data from previous machine learning tutorial."
   ]
  },
  {
   "cell_type": "code",
   "execution_count": 6,
   "id": "1bebda26-7710-4658-821f-6d471379f2ae",
   "metadata": {},
   "outputs": [
    {
     "name": "stderr",
     "output_type": "stream",
     "text": [
      "2023/05/05 14:59:40 INFO mlflow.utils.conda: Conda environment mlflow-dd0fbdd40ba98798131458f29496394bd1a3fb33 already exists.\n",
      "2023/05/05 14:59:40 INFO mlflow.projects.utils: === Created directory /tmp/tmptg2gsb_v for downloading remote URIs passed to arguments of type 'path' ===\n",
      "2023/05/05 14:59:40 INFO mlflow.projects.backend.local: === Running command 'source /home/muhammadhuzaifawaseem/anaconda3/bin/../etc/profile.d/conda.sh && conda activate mlflow-dd0fbdd40ba98798131458f29496394bd1a3fb33 1>&2 && bash download_data.sh' in run with ID '4675179196d34b5080cfc544a7bc5c8a' === \n",
      "File ‘winequality-red.csv’ already there; not retrieving.\n",
      "\n",
      "2023/05/05 14:59:40 INFO mlflow.projects: === Run (ID '4675179196d34b5080cfc544a7bc5c8a') succeeded ===\n"
     ]
    }
   ],
   "source": [
    "%%bash\n",
    "source mlflow_env_vars.sh\n",
    "mlflow run .  -e download_data"
   ]
  },
  {
   "cell_type": "markdown",
   "id": "0a7fd2b5-536f-46f5-88d6-1e2693c473f8",
   "metadata": {},
   "source": [
    "## Training\n",
    "\n",
    "Now we can train models. See `train.py`.\n",
    "It contains code from supervised machine learning tutorial; we added tracking metrics and model.\n",
    "\n",
    "We will train kNN models for $k \\in \\{1, 2, ..., 10\\}$ using *temperature* and *casual* features.\n",
    "\n",
    "After running this command you can go to `localhost:5000` and see the trained models."
   ]
  },
  {
   "cell_type": "code",
   "execution_count": 7,
   "id": "728ad762-eae9-4448-821e-542e3a584c02",
   "metadata": {},
   "outputs": [],
   "source": [
    "import sklearn"
   ]
  },
  {
   "cell_type": "code",
   "execution_count": 8,
   "id": "ac5438a4-abe7-4d62-93e2-7cb45129b060",
   "metadata": {},
   "outputs": [
    {
     "data": {
      "text/plain": [
       "'1.2.2'"
      ]
     },
     "execution_count": 8,
     "metadata": {},
     "output_type": "execute_result"
    }
   ],
   "source": [
    "sklearn.__version__"
   ]
  },
  {
   "cell_type": "code",
   "execution_count": 9,
   "id": "0dd34936-2870-41e7-9007-89088d58d430",
   "metadata": {
    "tags": []
   },
   "outputs": [
    {
     "name": "stdout",
     "output_type": "stream",
     "text": [
      "Python 3.10.9\n"
     ]
    }
   ],
   "source": [
    "!python --version"
   ]
  },
  {
   "cell_type": "code",
   "execution_count": 10,
   "id": "d0c428dd-75c9-4968-bcce-4e43960ef309",
   "metadata": {},
   "outputs": [
    {
     "name": "stderr",
     "output_type": "stream",
     "text": [
      "2023/05/05 14:59:44 INFO mlflow.utils.conda: Conda environment mlflow-dd0fbdd40ba98798131458f29496394bd1a3fb33 already exists.\n",
      "2023/05/05 14:59:44 INFO mlflow.projects.utils: === Created directory /tmp/tmp30qt2l1x for downloading remote URIs passed to arguments of type 'path' ===\n",
      "2023/05/05 14:59:44 INFO mlflow.projects.backend.local: === Running command 'source /home/muhammadhuzaifawaseem/anaconda3/bin/../etc/profile.d/conda.sh && conda activate mlflow-dd0fbdd40ba98798131458f29496394bd1a3fb33 1>&2 && python train.py winequality-red.csv 2 2' in run with ID 'e94efc4f4a654aefaee5d845d9632067' === \n",
      "/home/muhammadhuzaifawaseem/anaconda3/envs/mlflow-dd0fbdd40ba98798131458f29496394bd1a3fb33/lib/python3.11/site-packages/_distutils_hack/__init__.py:33: UserWarning: Setuptools is replacing distutils.\n",
      "  warnings.warn(\"Setuptools is replacing distutils.\")\n",
      "Registered model 'sklearn_RandomForest' already exists. Creating a new version of this model...\n",
      "2023/05/05 14:59:46 INFO mlflow.tracking._model_registry.client: Waiting up to 300 seconds for model version to finish creation. Model name: sklearn_RandomForest, version 14\n",
      "Created version '14' of model 'sklearn_RandomForest'.\n",
      "2023/05/05 14:59:46 INFO mlflow.projects: === Run (ID 'e94efc4f4a654aefaee5d845d9632067') succeeded ===\n"
     ]
    }
   ],
   "source": [
    "%%bash\n",
    "source mlflow_env_vars.sh\n",
    "mlflow run . "
   ]
  },
  {
   "cell_type": "markdown",
   "id": "c60189ad-f9df-4fee-b866-7fd2fc326336",
   "metadata": {},
   "source": [
    "## Inspecting stored models\n",
    "\n",
    "The trained models are stored in `mlruns/0`.\n",
    "\n",
    "These directories contain artifacts and config that is needed to serve them."
   ]
  },
  {
   "cell_type": "code",
   "execution_count": 11,
   "id": "e839cd69-ab87-4810-8d8f-458866a1ff8d",
   "metadata": {},
   "outputs": [
    {
     "name": "stdout",
     "output_type": "stream",
     "text": [
      "artifact_path: RandomForest\n",
      "flavors:\n",
      "  python_function:\n",
      "    env:\n",
      "      conda: conda.yaml\n",
      "      virtualenv: python_env.yaml\n",
      "    loader_module: mlflow.sklearn\n",
      "    model_path: model.pkl\n",
      "    predict_fn: predict\n",
      "    python_version: 3.11.3\n",
      "  sklearn:\n",
      "    code: null\n",
      "    pickled_model: model.pkl\n",
      "    serialization_format: cloudpickle\n",
      "    sklearn_version: 1.2.2\n",
      "mlflow_version: 2.3.1\n",
      "model_uuid: ba14cfbbacc947f8a80ce7c4b8597351\n",
      "run_id: e2fe8645611747b9b2fb5f30f5de380a\n",
      "utc_time_created: '2023-05-05 05:05:28.533741'\n"
     ]
    }
   ],
   "source": [
    "%%bash\n",
    "last_model_path=$(ls -tr mlruns/0/ | tail -1)\n",
    "cat mlruns/0/$last_model_path/artifacts/RandomForest/MLmodel"
   ]
  },
  {
   "cell_type": "code",
   "execution_count": 12,
   "id": "49b0bcad-234c-4a09-b43d-4b846e800478",
   "metadata": {
    "tags": []
   },
   "outputs": [
    {
     "name": "stdout",
     "output_type": "stream",
     "text": [
      "Requirement already satisfied: mlflow in /home/muhammadhuzaifawaseem/.local/lib/python3.10/site-packages (2.3.1)\n",
      "Requirement already satisfied: click<9,>=7.0 in /home/muhammadhuzaifawaseem/anaconda3/lib/python3.10/site-packages (from mlflow) (8.0.4)\n",
      "Requirement already satisfied: cloudpickle<3 in /home/muhammadhuzaifawaseem/.local/lib/python3.10/site-packages (from mlflow) (2.2.1)\n",
      "Requirement already satisfied: databricks-cli<1,>=0.8.7 in /home/muhammadhuzaifawaseem/.local/lib/python3.10/site-packages (from mlflow) (0.17.6)\n",
      "Requirement already satisfied: entrypoints<1 in /home/muhammadhuzaifawaseem/.local/lib/python3.10/site-packages (from mlflow) (0.4)\n",
      "Requirement already satisfied: gitpython<4,>=2.1.0 in /home/muhammadhuzaifawaseem/.local/lib/python3.10/site-packages (from mlflow) (3.1.31)\n",
      "Requirement already satisfied: pyyaml<7,>=5.1 in /home/muhammadhuzaifawaseem/anaconda3/lib/python3.10/site-packages (from mlflow) (6.0)\n",
      "Requirement already satisfied: protobuf<5,>=3.12.0 in /home/muhammadhuzaifawaseem/anaconda3/lib/python3.10/site-packages (from mlflow) (4.22.3)\n",
      "Requirement already satisfied: pytz<2024 in /home/muhammadhuzaifawaseem/anaconda3/lib/python3.10/site-packages (from mlflow) (2022.7)\n",
      "Requirement already satisfied: requests<3,>=2.17.3 in /home/muhammadhuzaifawaseem/.local/lib/python3.10/site-packages (from mlflow) (2.28.2)\n",
      "Requirement already satisfied: packaging<24 in /home/muhammadhuzaifawaseem/.local/lib/python3.10/site-packages (from mlflow) (23.0)\n",
      "Requirement already satisfied: importlib-metadata!=4.7.0,<7,>=3.7.0 in /home/muhammadhuzaifawaseem/anaconda3/lib/python3.10/site-packages (from mlflow) (4.11.3)\n",
      "Requirement already satisfied: sqlparse<1,>=0.4.0 in /home/muhammadhuzaifawaseem/.local/lib/python3.10/site-packages (from mlflow) (0.4.4)\n",
      "Requirement already satisfied: alembic!=1.10.0,<2 in /home/muhammadhuzaifawaseem/.local/lib/python3.10/site-packages (from mlflow) (1.10.4)\n",
      "Requirement already satisfied: docker<7,>=4.0.0 in /home/muhammadhuzaifawaseem/.local/lib/python3.10/site-packages (from mlflow) (6.0.1)\n",
      "Requirement already satisfied: Flask<3 in /home/muhammadhuzaifawaseem/.local/lib/python3.10/site-packages (from mlflow) (2.2.3)\n",
      "Requirement already satisfied: numpy<2 in /home/muhammadhuzaifawaseem/anaconda3/lib/python3.10/site-packages (from mlflow) (1.23.5)\n",
      "Requirement already satisfied: scipy<2 in /home/muhammadhuzaifawaseem/.local/lib/python3.10/site-packages (from mlflow) (1.10.1)\n",
      "Requirement already satisfied: pandas<3 in /home/muhammadhuzaifawaseem/.local/lib/python3.10/site-packages (from mlflow) (2.0.0)\n",
      "Requirement already satisfied: querystring-parser<2 in /home/muhammadhuzaifawaseem/.local/lib/python3.10/site-packages (from mlflow) (1.2.4)\n",
      "Requirement already satisfied: sqlalchemy<3,>=1.4.0 in /home/muhammadhuzaifawaseem/.local/lib/python3.10/site-packages (from mlflow) (2.0.12)\n",
      "Requirement already satisfied: scikit-learn<2 in /home/muhammadhuzaifawaseem/.local/lib/python3.10/site-packages (from mlflow) (1.2.2)\n",
      "Requirement already satisfied: pyarrow<12,>=4.0.0 in /home/muhammadhuzaifawaseem/.local/lib/python3.10/site-packages (from mlflow) (11.0.0)\n",
      "Requirement already satisfied: markdown<4,>=3.3 in /home/muhammadhuzaifawaseem/.local/lib/python3.10/site-packages (from mlflow) (3.4.3)\n",
      "Requirement already satisfied: matplotlib<4 in /home/muhammadhuzaifawaseem/.local/lib/python3.10/site-packages (from mlflow) (3.7.1)\n",
      "Requirement already satisfied: gunicorn<21 in /home/muhammadhuzaifawaseem/.local/lib/python3.10/site-packages (from mlflow) (20.1.0)\n",
      "Requirement already satisfied: Jinja2<4,>=2.11 in /home/muhammadhuzaifawaseem/.local/lib/python3.10/site-packages (from mlflow) (3.1.2)\n",
      "Requirement already satisfied: Mako in /home/muhammadhuzaifawaseem/anaconda3/lib/python3.10/site-packages (from alembic!=1.10.0,<2->mlflow) (1.2.4)\n",
      "Requirement already satisfied: typing-extensions>=4 in /home/muhammadhuzaifawaseem/.local/lib/python3.10/site-packages (from alembic!=1.10.0,<2->mlflow) (4.5.0)\n",
      "Requirement already satisfied: pyjwt>=1.7.0 in /home/muhammadhuzaifawaseem/anaconda3/lib/python3.10/site-packages (from databricks-cli<1,>=0.8.7->mlflow) (2.4.0)\n",
      "Requirement already satisfied: oauthlib>=3.1.0 in /home/muhammadhuzaifawaseem/anaconda3/lib/python3.10/site-packages (from databricks-cli<1,>=0.8.7->mlflow) (3.2.2)\n",
      "Requirement already satisfied: tabulate>=0.7.7 in /home/muhammadhuzaifawaseem/.local/lib/python3.10/site-packages (from databricks-cli<1,>=0.8.7->mlflow) (0.9.0)\n",
      "Requirement already satisfied: six>=1.10.0 in /home/muhammadhuzaifawaseem/anaconda3/lib/python3.10/site-packages (from databricks-cli<1,>=0.8.7->mlflow) (1.16.0)\n",
      "Requirement already satisfied: urllib3>=1.26.0 in /home/muhammadhuzaifawaseem/anaconda3/lib/python3.10/site-packages (from docker<7,>=4.0.0->mlflow) (1.26.14)\n",
      "Requirement already satisfied: websocket-client>=0.32.0 in /home/muhammadhuzaifawaseem/.local/lib/python3.10/site-packages (from docker<7,>=4.0.0->mlflow) (1.5.1)\n",
      "Requirement already satisfied: Werkzeug>=2.2.2 in /home/muhammadhuzaifawaseem/.local/lib/python3.10/site-packages (from Flask<3->mlflow) (2.2.3)\n",
      "Requirement already satisfied: itsdangerous>=2.0 in /home/muhammadhuzaifawaseem/.local/lib/python3.10/site-packages (from Flask<3->mlflow) (2.1.2)\n",
      "Requirement already satisfied: gitdb<5,>=4.0.1 in /home/muhammadhuzaifawaseem/.local/lib/python3.10/site-packages (from gitpython<4,>=2.1.0->mlflow) (4.0.10)\n",
      "Requirement already satisfied: setuptools>=3.0 in /home/muhammadhuzaifawaseem/anaconda3/lib/python3.10/site-packages (from gunicorn<21->mlflow) (65.6.3)\n",
      "Requirement already satisfied: zipp>=0.5 in /home/muhammadhuzaifawaseem/anaconda3/lib/python3.10/site-packages (from importlib-metadata!=4.7.0,<7,>=3.7.0->mlflow) (3.11.0)\n",
      "Requirement already satisfied: MarkupSafe>=2.0 in /home/muhammadhuzaifawaseem/.local/lib/python3.10/site-packages (from Jinja2<4,>=2.11->mlflow) (2.1.2)\n",
      "Requirement already satisfied: contourpy>=1.0.1 in /home/muhammadhuzaifawaseem/.local/lib/python3.10/site-packages (from matplotlib<4->mlflow) (1.0.7)\n",
      "Requirement already satisfied: cycler>=0.10 in /home/muhammadhuzaifawaseem/.local/lib/python3.10/site-packages (from matplotlib<4->mlflow) (0.11.0)\n",
      "Requirement already satisfied: fonttools>=4.22.0 in /home/muhammadhuzaifawaseem/.local/lib/python3.10/site-packages (from matplotlib<4->mlflow) (4.39.3)\n",
      "Requirement already satisfied: kiwisolver>=1.0.1 in /home/muhammadhuzaifawaseem/.local/lib/python3.10/site-packages (from matplotlib<4->mlflow) (1.4.4)\n",
      "Requirement already satisfied: pillow>=6.2.0 in /home/muhammadhuzaifawaseem/anaconda3/lib/python3.10/site-packages (from matplotlib<4->mlflow) (9.4.0)\n",
      "Requirement already satisfied: pyparsing>=2.3.1 in /home/muhammadhuzaifawaseem/anaconda3/lib/python3.10/site-packages (from matplotlib<4->mlflow) (3.0.9)\n",
      "Requirement already satisfied: python-dateutil>=2.7 in /home/muhammadhuzaifawaseem/.local/lib/python3.10/site-packages (from matplotlib<4->mlflow) (2.8.2)\n",
      "Requirement already satisfied: tzdata>=2022.1 in /home/muhammadhuzaifawaseem/.local/lib/python3.10/site-packages (from pandas<3->mlflow) (2023.3)\n",
      "Requirement already satisfied: charset-normalizer<4,>=2 in /home/muhammadhuzaifawaseem/.local/lib/python3.10/site-packages (from requests<3,>=2.17.3->mlflow) (3.1.0)\n",
      "Requirement already satisfied: idna<4,>=2.5 in /home/muhammadhuzaifawaseem/anaconda3/lib/python3.10/site-packages (from requests<3,>=2.17.3->mlflow) (3.4)\n",
      "Requirement already satisfied: certifi>=2017.4.17 in /home/muhammadhuzaifawaseem/anaconda3/lib/python3.10/site-packages (from requests<3,>=2.17.3->mlflow) (2022.12.7)\n",
      "Requirement already satisfied: joblib>=1.1.1 in /home/muhammadhuzaifawaseem/.local/lib/python3.10/site-packages (from scikit-learn<2->mlflow) (1.2.0)\n",
      "Requirement already satisfied: threadpoolctl>=2.0.0 in /home/muhammadhuzaifawaseem/.local/lib/python3.10/site-packages (from scikit-learn<2->mlflow) (3.1.0)\n",
      "Requirement already satisfied: greenlet!=0.4.17 in /home/muhammadhuzaifawaseem/.local/lib/python3.10/site-packages (from sqlalchemy<3,>=1.4.0->mlflow) (2.0.2)\n",
      "Requirement already satisfied: smmap<6,>=3.0.1 in /home/muhammadhuzaifawaseem/.local/lib/python3.10/site-packages (from gitdb<5,>=4.0.1->gitpython<4,>=2.1.0->mlflow) (5.0.0)\n",
      "Note: you may need to restart the kernel to use updated packages.\n"
     ]
    }
   ],
   "source": [
    "pip install mlflow"
   ]
  },
  {
   "cell_type": "code",
   "execution_count": 13,
   "id": "ae7a3b10-e73e-458e-a86d-73c5353af294",
   "metadata": {},
   "outputs": [],
   "source": [
    "\n",
    "import mlflow"
   ]
  },
  {
   "cell_type": "code",
   "execution_count": 14,
   "id": "b492d50f-9d12-4c97-a697-bacd34eba1b8",
   "metadata": {},
   "outputs": [
    {
     "data": {
      "text/plain": [
       "'2.3.1'"
      ]
     },
     "execution_count": 14,
     "metadata": {},
     "output_type": "execute_result"
    }
   ],
   "source": [
    "mlflow.__version__"
   ]
  },
  {
   "cell_type": "markdown",
   "id": "4a4654c1-33c9-49d1-bfac-d8090dec79f1",
   "metadata": {},
   "source": [
    "## Serving model\n",
    "\n",
    "Now that we trained our models we can go to *Models* page on MLFLow UI (http://localhost:5000/#/models).\n",
    "\n",
    "Click *sklearn_knn* on this page, choose a model and move it to *Production* stage.\n",
    "\n",
    "The following cell will serve the model at localhost on port 5001."
   ]
  },
  {
   "cell_type": "code",
   "execution_count": 15,
   "id": "ef644f7b-ad7e-4a3b-8b4e-df6a20e85290",
   "metadata": {},
   "outputs": [],
   "source": [
    "%%bash --bg\n",
    "source mlflow_env_vars.sh\n",
    "mlflow --version\n",
    "mlflow models serve -m models:/sklearn_RandomForest/Production -p 5001 --env-manager=conda \n"
   ]
  },
  {
   "cell_type": "markdown",
   "id": "7f81d979-a94c-4307-a5f6-cd95a5c4eeff",
   "metadata": {},
   "source": [
    "# Prediction\n",
    "\n",
    "We'll load data that we can feed into prediction server."
   ]
  },
  {
   "cell_type": "code",
   "execution_count": null,
   "id": "96d732c8-9460-45a1-ae14-97b1d9e04fb3",
   "metadata": {
    "tags": []
   },
   "outputs": [],
   "source": []
  },
  {
   "cell_type": "code",
   "execution_count": 16,
   "id": "d684121e-1ce1-433c-9349-9ef539e3f36b",
   "metadata": {},
   "outputs": [
    {
     "data": {
      "text/html": [
       "<div>\n",
       "<style scoped>\n",
       "    .dataframe tbody tr th:only-of-type {\n",
       "        vertical-align: middle;\n",
       "    }\n",
       "\n",
       "    .dataframe tbody tr th {\n",
       "        vertical-align: top;\n",
       "    }\n",
       "\n",
       "    .dataframe thead th {\n",
       "        text-align: right;\n",
       "    }\n",
       "</style>\n",
       "<table border=\"1\" class=\"dataframe\">\n",
       "  <thead>\n",
       "    <tr style=\"text-align: right;\">\n",
       "      <th></th>\n",
       "      <th>alcohol</th>\n",
       "      <th>quality</th>\n",
       "      <th>is_quality</th>\n",
       "    </tr>\n",
       "  </thead>\n",
       "  <tbody>\n",
       "    <tr>\n",
       "      <th>0</th>\n",
       "      <td>9.4</td>\n",
       "      <td>5</td>\n",
       "      <td>False</td>\n",
       "    </tr>\n",
       "    <tr>\n",
       "      <th>1</th>\n",
       "      <td>9.8</td>\n",
       "      <td>5</td>\n",
       "      <td>False</td>\n",
       "    </tr>\n",
       "    <tr>\n",
       "      <th>2</th>\n",
       "      <td>9.8</td>\n",
       "      <td>5</td>\n",
       "      <td>False</td>\n",
       "    </tr>\n",
       "    <tr>\n",
       "      <th>4</th>\n",
       "      <td>9.4</td>\n",
       "      <td>5</td>\n",
       "      <td>False</td>\n",
       "    </tr>\n",
       "    <tr>\n",
       "      <th>5</th>\n",
       "      <td>9.4</td>\n",
       "      <td>5</td>\n",
       "      <td>False</td>\n",
       "    </tr>\n",
       "  </tbody>\n",
       "</table>\n",
       "</div>"
      ],
      "text/plain": [
       "   alcohol  quality  is_quality\n",
       "0      9.4        5       False\n",
       "1      9.8        5       False\n",
       "2      9.8        5       False\n",
       "4      9.4        5       False\n",
       "5      9.4        5       False"
      ]
     },
     "execution_count": 16,
     "metadata": {},
     "output_type": "execute_result"
    }
   ],
   "source": [
    "df = pd.read_csv(\"winequality-red.csv\", sep=';')[[\"alcohol\",\"pH\", \"quality\"]]\n",
    "df[\"is_quality\"] = df[\"quality\"] == 6\n",
    "\n",
    "df[~df[\"is_quality\"]].head()"
   ]
  },
  {
   "cell_type": "markdown",
   "id": "2516ceaf-45b5-4d67-a63d-048cc8086d63",
   "metadata": {},
   "source": [
    "Let's predict for first winter day and first non-winter day (first rows of previous two dataframes)\n",
    "\n",
    "**warning: this might fail at first because the prediction server didn't spin up; in this case wait a minute**"
   ]
  },
  {
   "cell_type": "code",
   "execution_count": 17,
   "id": "650174ad-bb37-4fe3-b450-b8ba7889bfe6",
   "metadata": {},
   "outputs": [
    {
     "name": "stdout",
     "output_type": "stream",
     "text": [
      "[[0.344,331], [0.43, 401]]\n"
     ]
    },
    {
     "name": "stderr",
     "output_type": "stream",
     "text": [
      "  % Total    % Received % Xferd  Average Speed   Time    Time     Time  Current\n",
      "                                 Dload  Upload   Total   Spent    Left  Speed\n",
      "100  2206  100  2168  100    38   733k  13162 --:--:-- --:--:-- --:--:-- 1077k\n"
     ]
    },
    {
     "name": "stdout",
     "output_type": "stream",
     "text": [
      "{\"error_code\": \"BAD_REQUEST\", \"message\": \"Encountered an unexpected error while evaluating the model. Verify that the serialized input Dataframe is compatible with the model for inference.\", \"stack_trace\": \"Traceback (most recent call last):\\n  File \\\"/home/muhammadhuzaifawaseem/anaconda3/envs/mlflow-02cf1fb0d1a9b0f3ed90d8626b358c93a87bca9a/lib/python3.11/site-packages/mlflow/pyfunc/scoring_server/__init__.py\\\", line 276, in transformation\\n    raw_predictions = model.predict(data)\\n                      ^^^^^^^^^^^^^^^^^^^\\n  File \\\"/home/muhammadhuzaifawaseem/anaconda3/envs/mlflow-02cf1fb0d1a9b0f3ed90d8626b358c93a87bca9a/lib/python3.11/site-packages/mlflow/pyfunc/__init__.py\\\", line 427, in predict\\n    return self._predict_fn(data)\\n           ^^^^^^^^^^^^^^^^^^^^^^\\n  File \\\"/home/muhammadhuzaifawaseem/anaconda3/envs/mlflow-02cf1fb0d1a9b0f3ed90d8626b358c93a87bca9a/lib/python3.11/site-packages/sklearn/ensemble/_forest.py\\\", line 820, in predict\\n    proba = self.predict_proba(X)\\n            ^^^^^^^^^^^^^^^^^^^^^\\n  File \\\"/home/muhammadhuzaifawaseem/anaconda3/envs/mlflow-02cf1fb0d1a9b0f3ed90d8626b358c93a87bca9a/lib/python3.11/site-packages/sklearn/ensemble/_forest.py\\\", line 862, in predict_proba\\n    X = self._validate_X_predict(X)\\n        ^^^^^^^^^^^^^^^^^^^^^^^^^^^\\n  File \\\"/home/muhammadhuzaifawaseem/anaconda3/envs/mlflow-02cf1fb0d1a9b0f3ed90d8626b358c93a87bca9a/lib/python3.11/site-packages/sklearn/ensemble/_forest.py\\\", line 602, in _validate_X_predict\\n    X = self._validate_data(X, dtype=DTYPE, accept_sparse=\\\"csr\\\", reset=False)\\n        ^^^^^^^^^^^^^^^^^^^^^^^^^^^^^^^^^^^^^^^^^^^^^^^^^^^^^^^^^^^^^^^^^^^^^\\n  File \\\"/home/muhammadhuzaifawaseem/anaconda3/envs/mlflow-02cf1fb0d1a9b0f3ed90d8626b358c93a87bca9a/lib/python3.11/site-packages/sklearn/base.py\\\", line 588, in _validate_data\\n    self._check_n_features(X, reset=reset)\\n  File \\\"/home/muhammadhuzaifawaseem/anaconda3/envs/mlflow-02cf1fb0d1a9b0f3ed90d8626b358c93a87bca9a/lib/python3.11/site-packages/sklearn/base.py\\\", line 389, in _check_n_features\\n    raise ValueError(\\nValueError: X has 2 features, but RandomForestClassifier is expecting 11 features as input.\\n\"}"
     ]
    }
   ],
   "source": [
    "%%bash\n",
    "data='[[0.344,331], [0.43, 401]]'\n",
    "echo $data\n",
    "\n",
    "curl -d \"{\\\"inputs\\\": $data}\" -H 'Content-Type: application/json' 127.0.0.1:5001/invocations"
   ]
  },
  {
   "cell_type": "code",
   "execution_count": 18,
   "id": "61bf3366-18cc-4bcd-a927-f7211d9e3b7c",
   "metadata": {},
   "outputs": [
    {
     "name": "stdout",
     "output_type": "stream",
     "text": [
      "[[0.344,331], [0.43, 401]]\n"
     ]
    },
    {
     "name": "stderr",
     "output_type": "stream",
     "text": [
      "  % Total    % Received % Xferd  Average Speed   Time    Time     Time  Current\n",
      "                                 Dload  Upload   Total   Spent    Left  Speed\n",
      "100  2209  100  2168  100    41   678k  13132 --:--:-- --:--:-- --:--:--  719k\n"
     ]
    },
    {
     "name": "stdout",
     "output_type": "stream",
     "text": [
      "{\"error_code\": \"BAD_REQUEST\", \"message\": \"Encountered an unexpected error while evaluating the model. Verify that the serialized input Dataframe is compatible with the model for inference.\", \"stack_trace\": \"Traceback (most recent call last):\\n  File \\\"/home/muhammadhuzaifawaseem/anaconda3/envs/mlflow-02cf1fb0d1a9b0f3ed90d8626b358c93a87bca9a/lib/python3.11/site-packages/mlflow/pyfunc/scoring_server/__init__.py\\\", line 276, in transformation\\n    raw_predictions = model.predict(data)\\n                      ^^^^^^^^^^^^^^^^^^^\\n  File \\\"/home/muhammadhuzaifawaseem/anaconda3/envs/mlflow-02cf1fb0d1a9b0f3ed90d8626b358c93a87bca9a/lib/python3.11/site-packages/mlflow/pyfunc/__init__.py\\\", line 427, in predict\\n    return self._predict_fn(data)\\n           ^^^^^^^^^^^^^^^^^^^^^^\\n  File \\\"/home/muhammadhuzaifawaseem/anaconda3/envs/mlflow-02cf1fb0d1a9b0f3ed90d8626b358c93a87bca9a/lib/python3.11/site-packages/sklearn/ensemble/_forest.py\\\", line 820, in predict\\n    proba = self.predict_proba(X)\\n            ^^^^^^^^^^^^^^^^^^^^^\\n  File \\\"/home/muhammadhuzaifawaseem/anaconda3/envs/mlflow-02cf1fb0d1a9b0f3ed90d8626b358c93a87bca9a/lib/python3.11/site-packages/sklearn/ensemble/_forest.py\\\", line 862, in predict_proba\\n    X = self._validate_X_predict(X)\\n        ^^^^^^^^^^^^^^^^^^^^^^^^^^^\\n  File \\\"/home/muhammadhuzaifawaseem/anaconda3/envs/mlflow-02cf1fb0d1a9b0f3ed90d8626b358c93a87bca9a/lib/python3.11/site-packages/sklearn/ensemble/_forest.py\\\", line 602, in _validate_X_predict\\n    X = self._validate_data(X, dtype=DTYPE, accept_sparse=\\\"csr\\\", reset=False)\\n        ^^^^^^^^^^^^^^^^^^^^^^^^^^^^^^^^^^^^^^^^^^^^^^^^^^^^^^^^^^^^^^^^^^^^^\\n  File \\\"/home/muhammadhuzaifawaseem/anaconda3/envs/mlflow-02cf1fb0d1a9b0f3ed90d8626b358c93a87bca9a/lib/python3.11/site-packages/sklearn/base.py\\\", line 588, in _validate_data\\n    self._check_n_features(X, reset=reset)\\n  File \\\"/home/muhammadhuzaifawaseem/anaconda3/envs/mlflow-02cf1fb0d1a9b0f3ed90d8626b358c93a87bca9a/lib/python3.11/site-packages/sklearn/base.py\\\", line 389, in _check_n_features\\n    raise ValueError(\\nValueError: X has 2 features, but RandomForestClassifier is expecting 11 features as input.\\n\"}"
     ]
    }
   ],
   "source": [
    "%%bash\n",
    "data='[[0.344,331], [0.43, 401]]'\n",
    "echo $data\n",
    "\n",
    "curl -d \"{\\\"instances\\\": $data}\" -H 'Content-Type: application/json' 127.0.0.1:5001/invocations"
   ]
  },
  {
   "cell_type": "code",
   "execution_count": 19,
   "id": "e8d788af-af76-4616-9377-4accb1f29696",
   "metadata": {},
   "outputs": [
    {
     "name": "stdout",
     "output_type": "stream",
     "text": [
      "[[0.344,331], [0.43, 401]]\n"
     ]
    },
    {
     "name": "stderr",
     "output_type": "stream",
     "text": [
      "  % Total    % Received % Xferd  Average Speed   Time    Time     Time  Current\n",
      "                                 Dload  Upload   Total   Spent    Left  Speed\n",
      "100  2431  100  2347  100    84  1144k  41937 --:--:-- --:--:-- --:--:-- 2374k\n"
     ]
    },
    {
     "name": "stdout",
     "output_type": "stream",
     "text": [
      "{\"error_code\": \"BAD_REQUEST\", \"message\": \"Encountered an unexpected error while evaluating the model. Verify that the serialized input Dataframe is compatible with the model for inference.\", \"stack_trace\": \"Traceback (most recent call last):\\n  File \\\"/home/muhammadhuzaifawaseem/anaconda3/envs/mlflow-02cf1fb0d1a9b0f3ed90d8626b358c93a87bca9a/lib/python3.11/site-packages/mlflow/pyfunc/scoring_server/__init__.py\\\", line 276, in transformation\\n    raw_predictions = model.predict(data)\\n                      ^^^^^^^^^^^^^^^^^^^\\n  File \\\"/home/muhammadhuzaifawaseem/anaconda3/envs/mlflow-02cf1fb0d1a9b0f3ed90d8626b358c93a87bca9a/lib/python3.11/site-packages/mlflow/pyfunc/__init__.py\\\", line 427, in predict\\n    return self._predict_fn(data)\\n           ^^^^^^^^^^^^^^^^^^^^^^\\n  File \\\"/home/muhammadhuzaifawaseem/anaconda3/envs/mlflow-02cf1fb0d1a9b0f3ed90d8626b358c93a87bca9a/lib/python3.11/site-packages/sklearn/ensemble/_forest.py\\\", line 820, in predict\\n    proba = self.predict_proba(X)\\n            ^^^^^^^^^^^^^^^^^^^^^\\n  File \\\"/home/muhammadhuzaifawaseem/anaconda3/envs/mlflow-02cf1fb0d1a9b0f3ed90d8626b358c93a87bca9a/lib/python3.11/site-packages/sklearn/ensemble/_forest.py\\\", line 862, in predict_proba\\n    X = self._validate_X_predict(X)\\n        ^^^^^^^^^^^^^^^^^^^^^^^^^^^\\n  File \\\"/home/muhammadhuzaifawaseem/anaconda3/envs/mlflow-02cf1fb0d1a9b0f3ed90d8626b358c93a87bca9a/lib/python3.11/site-packages/sklearn/ensemble/_forest.py\\\", line 602, in _validate_X_predict\\n    X = self._validate_data(X, dtype=DTYPE, accept_sparse=\\\"csr\\\", reset=False)\\n        ^^^^^^^^^^^^^^^^^^^^^^^^^^^^^^^^^^^^^^^^^^^^^^^^^^^^^^^^^^^^^^^^^^^^^\\n  File \\\"/home/muhammadhuzaifawaseem/anaconda3/envs/mlflow-02cf1fb0d1a9b0f3ed90d8626b358c93a87bca9a/lib/python3.11/site-packages/sklearn/base.py\\\", line 548, in _validate_data\\n    self._check_feature_names(X, reset=reset)\\n  File \\\"/home/muhammadhuzaifawaseem/anaconda3/envs/mlflow-02cf1fb0d1a9b0f3ed90d8626b358c93a87bca9a/lib/python3.11/site-packages/sklearn/base.py\\\", line 481, in _check_feature_names\\n    raise ValueError(message)\\nValueError: The feature names should match those that were passed during fit.\\nFeature names unseen at fit time:\\n- casual\\n- temp\\nFeature names seen at fit time, yet now missing:\\n- alcohol\\n- chlorides\\n- citric acid\\n- density\\n- fixed acidity\\n- ...\\n\\n\"}"
     ]
    }
   ],
   "source": [
    "%%bash\n",
    "data='[[0.344,331], [0.43, 401]]'\n",
    "columns='[\"temp\",\"casual\"]'\n",
    "echo $data\n",
    "\n",
    "curl -d \"{\\\"dataframe_split\\\":{\\\"columns\\\":[\\\"temp\\\",\\\"casual\\\"],\\\"data\\\": $data}}\" -H 'Content-Type: application/json' 127.0.0.1:5001/invocations"
   ]
  },
  {
   "cell_type": "markdown",
   "id": "d4abd689-28c3-4abb-8465-4035d3fa780c",
   "metadata": {},
   "source": [
    "Voila! We see that the model outputs correct predictions."
   ]
  },
  {
   "cell_type": "code",
   "execution_count": null,
   "id": "c0464d04-b152-4f19-8a6b-fa425e6b58c6",
   "metadata": {},
   "outputs": [],
   "source": []
  },
  {
   "cell_type": "code",
   "execution_count": null,
   "id": "1a7d2436-70e2-459e-b42e-a29b005a9cf3",
   "metadata": {},
   "outputs": [],
   "source": []
  }
 ],
 "metadata": {
  "kernelspec": {
   "display_name": "Python 3 (ipykernel)",
   "language": "python",
   "name": "python3"
  },
  "language_info": {
   "codemirror_mode": {
    "name": "ipython",
    "version": 3
   },
   "file_extension": ".py",
   "mimetype": "text/x-python",
   "name": "python",
   "nbconvert_exporter": "python",
   "pygments_lexer": "ipython3",
   "version": "3.10.9"
  }
 },
 "nbformat": 4,
 "nbformat_minor": 5
}
