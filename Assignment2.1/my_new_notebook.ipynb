{
 "cells": [
  {
   "attachments": {},
   "cell_type": "markdown",
   "metadata": {},
   "source": [
    "<h1> Assignment 2.1</h1>\n",
    "<ul class=command_list> \n",
    "    <li>You can include mathematical expressions (see MathJax syntax):\n",
    "$e^{i\\pi} + 1 = 0$\n",
    "or\n",
    "\\begin{equation}\n",
    "e^x=\\sum_{i=0}^\\infty \\frac{1}{i!}x^i\n",
    "\\end{equation}\n",
    "    </li>\n",
    "     <li> \n",
    "         You can use HTML syntax. You can create for example a HTML table:\n",
    " <table class=\"commands\">\n",
    "  <tr>\n",
    "    <th>Vegetable</th>\n",
    "    <th>Size</th>\n",
    "  </tr>\n",
    "  <tr>\n",
    "    <td>carrot</td>\n",
    "    <td>small</td>\n",
    "  </tr>\n",
    "  <tr>\n",
    "    <td>beet</td>\n",
    "    <td>medium</td>\n",
    "  </tr>\n",
    "</table> \n",
    " \n",
    "   \n",
    "</li>\n",
    "    \n",
    "    \n",
    " </ul> \n",
    "<h2>\n",
    "Nota bene  code snippets can be embedded (  with syntax highlighting)\n",
    "</h2>\n",
    "\n",
    "\n",
    "```python\n",
    "print(\"Hello World\")\n",
    "```"
   ]
  },
  {
   "cell_type": "code",
   "execution_count": 1,
   "metadata": {},
   "outputs": [],
   "source": [
    "!nbqa blacken-docs my_new_notebook.ipynb --nbqa-md\n"
   ]
  },
  {
   "cell_type": "code",
   "execution_count": null,
   "metadata": {},
   "outputs": [],
   "source": []
  }
 ],
 "metadata": {
  "kernelspec": {
   "display_name": "Python 3",
   "language": "python",
   "name": "python3"
  },
  "language_info": {
   "codemirror_mode": {
    "name": "ipython",
    "version": 3
   },
   "file_extension": ".py",
   "mimetype": "text/x-python",
   "name": "python",
   "nbconvert_exporter": "python",
   "pygments_lexer": "ipython3",
   "version": "3.10.6"
  },
  "orig_nbformat": 4
 },
 "nbformat": 4,
 "nbformat_minor": 2
}
